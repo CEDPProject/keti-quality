{
 "cells": [
  {
   "cell_type": "markdown",
   "id": "e0db5253",
   "metadata": {},
   "source": [
    "## Agridata 품질 측정 테스트"
   ]
  },
  {
   "cell_type": "code",
   "execution_count": 2,
   "id": "a1c2458c",
   "metadata": {},
   "outputs": [],
   "source": [
    "import pandas as pd\n",
    "\n",
    "# Load the data\n",
    "file_path = 'data/paprika_F00012_part1.csv'\n",
    "original_df = pd.read_csv(file_path)\n",
    "original_df['time'] = pd.to_datetime(original_df['time'], errors='coerce')\n",
    "original_df = original_df.set_index('time')"
   ]
  },
  {
   "cell_type": "code",
   "execution_count": 3,
   "id": "de3a8f08",
   "metadata": {},
   "outputs": [
    {
     "data": {
      "application/vnd.microsoft.datawrangler.viewer.v0+json": {
       "columns": [
        {
         "name": "index",
         "rawType": "object",
         "type": "string"
        },
        {
         "name": "EXT_TMP",
         "rawType": "float64",
         "type": "float"
        },
        {
         "name": "EXT_WIND_DIRECT",
         "rawType": "float64",
         "type": "float"
        },
        {
         "name": "EXT_WIND_SPEED",
         "rawType": "float64",
         "type": "float"
        },
        {
         "name": "INT_CO2",
         "rawType": "float64",
         "type": "float"
        },
        {
         "name": "INT_REL_HD",
         "rawType": "float64",
         "type": "float"
        },
        {
         "name": "INT_TMP",
         "rawType": "float64",
         "type": "float"
        },
        {
         "name": "MAX_EXT_TMP",
         "rawType": "float64",
         "type": "float"
        },
        {
         "name": "MIN_EXT_TMP",
         "rawType": "float64",
         "type": "float"
        }
       ],
       "ref": "8125bb03-1e32-4b83-9e04-f637b3106bec",
       "rows": [
        [
         "count",
         "49497.0",
         "48787.0",
         "49497.0",
         "49497.0",
         "49497.0",
         "49497.0",
         "48787.0",
         "48787.0"
        ],
        [
         "mean",
         "15.91357557023658",
         "168.73777850656938",
         "0.8765569630482655",
         "433.7666656565045",
         "67.03729215912075",
         "16.490739842818755",
         "16.3594256666735",
         "15.649699715088037"
        ],
        [
         "std",
         "10.451686170058364",
         "89.29348127603542",
         "0.8937501537189021",
         "120.30153351647462",
         "17.3225367573819",
         "6.194294186529192",
         "10.50535391172642",
         "10.521974751581325"
        ],
        [
         "min",
         "-20.82",
         "90.0",
         "0.0",
         "-300.0",
         "18.23",
         "-2.48",
         "-20.0",
         "-21.4"
        ],
        [
         "25%",
         "9.79",
         "90.0",
         "0.16",
         "340.5",
         "57.25",
         "12.9",
         "10.2",
         "9.5"
        ],
        [
         "50%",
         "18.45",
         "90.0",
         "0.59",
         "398.59",
         "64.96",
         "16.21",
         "18.9",
         "18.3"
        ],
        [
         "75%",
         "23.53",
         "270.0",
         "1.36",
         "514.8",
         "79.56",
         "19.91",
         "24.1",
         "23.3"
        ],
        [
         "max",
         "37.76",
         "270.0",
         "6.33",
         "1148.83",
         "100.0",
         "37.0",
         "38.1",
         "37.7"
        ]
       ],
       "shape": {
        "columns": 8,
        "rows": 8
       }
      },
      "text/html": [
       "<div>\n",
       "<style scoped>\n",
       "    .dataframe tbody tr th:only-of-type {\n",
       "        vertical-align: middle;\n",
       "    }\n",
       "\n",
       "    .dataframe tbody tr th {\n",
       "        vertical-align: top;\n",
       "    }\n",
       "\n",
       "    .dataframe thead th {\n",
       "        text-align: right;\n",
       "    }\n",
       "</style>\n",
       "<table border=\"1\" class=\"dataframe\">\n",
       "  <thead>\n",
       "    <tr style=\"text-align: right;\">\n",
       "      <th></th>\n",
       "      <th>EXT_TMP</th>\n",
       "      <th>EXT_WIND_DIRECT</th>\n",
       "      <th>EXT_WIND_SPEED</th>\n",
       "      <th>INT_CO2</th>\n",
       "      <th>INT_REL_HD</th>\n",
       "      <th>INT_TMP</th>\n",
       "      <th>MAX_EXT_TMP</th>\n",
       "      <th>MIN_EXT_TMP</th>\n",
       "    </tr>\n",
       "  </thead>\n",
       "  <tbody>\n",
       "    <tr>\n",
       "      <th>count</th>\n",
       "      <td>49497.000000</td>\n",
       "      <td>48787.000000</td>\n",
       "      <td>49497.000000</td>\n",
       "      <td>49497.000000</td>\n",
       "      <td>49497.000000</td>\n",
       "      <td>49497.000000</td>\n",
       "      <td>48787.000000</td>\n",
       "      <td>48787.000000</td>\n",
       "    </tr>\n",
       "    <tr>\n",
       "      <th>mean</th>\n",
       "      <td>15.913576</td>\n",
       "      <td>168.737779</td>\n",
       "      <td>0.876557</td>\n",
       "      <td>433.766666</td>\n",
       "      <td>67.037292</td>\n",
       "      <td>16.490740</td>\n",
       "      <td>16.359426</td>\n",
       "      <td>15.649700</td>\n",
       "    </tr>\n",
       "    <tr>\n",
       "      <th>std</th>\n",
       "      <td>10.451686</td>\n",
       "      <td>89.293481</td>\n",
       "      <td>0.893750</td>\n",
       "      <td>120.301534</td>\n",
       "      <td>17.322537</td>\n",
       "      <td>6.194294</td>\n",
       "      <td>10.505354</td>\n",
       "      <td>10.521975</td>\n",
       "    </tr>\n",
       "    <tr>\n",
       "      <th>min</th>\n",
       "      <td>-20.820000</td>\n",
       "      <td>90.000000</td>\n",
       "      <td>0.000000</td>\n",
       "      <td>-300.000000</td>\n",
       "      <td>18.230000</td>\n",
       "      <td>-2.480000</td>\n",
       "      <td>-20.000000</td>\n",
       "      <td>-21.400000</td>\n",
       "    </tr>\n",
       "    <tr>\n",
       "      <th>25%</th>\n",
       "      <td>9.790000</td>\n",
       "      <td>90.000000</td>\n",
       "      <td>0.160000</td>\n",
       "      <td>340.500000</td>\n",
       "      <td>57.250000</td>\n",
       "      <td>12.900000</td>\n",
       "      <td>10.200000</td>\n",
       "      <td>9.500000</td>\n",
       "    </tr>\n",
       "    <tr>\n",
       "      <th>50%</th>\n",
       "      <td>18.450000</td>\n",
       "      <td>90.000000</td>\n",
       "      <td>0.590000</td>\n",
       "      <td>398.590000</td>\n",
       "      <td>64.960000</td>\n",
       "      <td>16.210000</td>\n",
       "      <td>18.900000</td>\n",
       "      <td>18.300000</td>\n",
       "    </tr>\n",
       "    <tr>\n",
       "      <th>75%</th>\n",
       "      <td>23.530000</td>\n",
       "      <td>270.000000</td>\n",
       "      <td>1.360000</td>\n",
       "      <td>514.800000</td>\n",
       "      <td>79.560000</td>\n",
       "      <td>19.910000</td>\n",
       "      <td>24.100000</td>\n",
       "      <td>23.300000</td>\n",
       "    </tr>\n",
       "    <tr>\n",
       "      <th>max</th>\n",
       "      <td>37.760000</td>\n",
       "      <td>270.000000</td>\n",
       "      <td>6.330000</td>\n",
       "      <td>1148.830000</td>\n",
       "      <td>100.000000</td>\n",
       "      <td>37.000000</td>\n",
       "      <td>38.100000</td>\n",
       "      <td>37.700000</td>\n",
       "    </tr>\n",
       "  </tbody>\n",
       "</table>\n",
       "</div>"
      ],
      "text/plain": [
       "            EXT_TMP  EXT_WIND_DIRECT  EXT_WIND_SPEED       INT_CO2  \\\n",
       "count  49497.000000     48787.000000    49497.000000  49497.000000   \n",
       "mean      15.913576       168.737779        0.876557    433.766666   \n",
       "std       10.451686        89.293481        0.893750    120.301534   \n",
       "min      -20.820000        90.000000        0.000000   -300.000000   \n",
       "25%        9.790000        90.000000        0.160000    340.500000   \n",
       "50%       18.450000        90.000000        0.590000    398.590000   \n",
       "75%       23.530000       270.000000        1.360000    514.800000   \n",
       "max       37.760000       270.000000        6.330000   1148.830000   \n",
       "\n",
       "         INT_REL_HD       INT_TMP   MAX_EXT_TMP   MIN_EXT_TMP  \n",
       "count  49497.000000  49497.000000  48787.000000  48787.000000  \n",
       "mean      67.037292     16.490740     16.359426     15.649700  \n",
       "std       17.322537      6.194294     10.505354     10.521975  \n",
       "min       18.230000     -2.480000    -20.000000    -21.400000  \n",
       "25%       57.250000     12.900000     10.200000      9.500000  \n",
       "50%       64.960000     16.210000     18.900000     18.300000  \n",
       "75%       79.560000     19.910000     24.100000     23.300000  \n",
       "max      100.000000     37.000000     38.100000     37.700000  "
      ]
     },
     "execution_count": 3,
     "metadata": {},
     "output_type": "execute_result"
    }
   ],
   "source": [
    "original_df.describe()"
   ]
  },
  {
   "cell_type": "code",
   "execution_count": 4,
   "id": "8c1b9172",
   "metadata": {},
   "outputs": [],
   "source": [
    "# 측정 기준 정하기\n",
    "range_limits = {\n",
    "    'max_num': {\n",
    "        'EXT_TMP': 37.76, 'EXT_WIND_DIRECT': 270, 'EXT_WIND_SPEED': 6.33, \n",
    "        'INT_CO2': 1148.83, 'INT_REL_HD': 100, 'INT_TMP': 37.00, \n",
    "        'MAX_EXT_TMP': 38.10, 'MIN_EXT_TMP': 37.70\n",
    "    },\n",
    "    'min_num': {\n",
    "        'EXT_TMP': -20.82, 'EXT_WIND_DIRECT': 90, 'EXT_WIND_SPEED': 0.00, \n",
    "        'INT_CO2': -300.00, 'INT_REL_HD': 18.23, 'INT_TMP': -2.48, \n",
    "        'MAX_EXT_TMP': -20.00, 'MIN_EXT_TMP': -21.40\n",
    "    }\n",
    "}\n",
    "\n",
    "expected_types = {'EXT_TMP': float, 'EXT_WIND_DIRECT': float, 'EXT_WIND_SPEED': float, 'INT_CO2' : float, \n",
    "                  'INT_REL_HD': float, 'INT_TMP':float, 'MAX_EXT_TMP': float, 'MIN_EXT_TMP':float}\n",
    "\n",
    "error_values = {\n",
    "    \"INT_CO2\": [9999, -9999],  \n",
    "    \"INT_TMP\": [9999, -9999],  \n",
    "}"
   ]
  },
  {
   "cell_type": "code",
   "execution_count": 5,
   "id": "1a3284e2",
   "metadata": {},
   "outputs": [
    {
     "name": "stdout",
     "output_type": "stream",
     "text": [
      "original_data_quality\n",
      "{'syntactic_accuracy_A': 1.0,\n",
      " 'semantic_accuracy_B': 1.0,\n",
      " 'risk_of_inaccuracy_C': 0.02,\n",
      " 'main_duration(s)': 600.0,\n",
      " 'range_accuracy_D': 0.62,\n",
      " 'overall_data_quality': 90.0}\n"
     ]
    }
   ],
   "source": [
    "# measure data quality\n",
    "from quality.measurement.data_quality_metrices import DataQualityMetrics\n",
    "import pprint\n",
    "\n",
    "print(\"original_data_quality\")\n",
    "metrics = DataQualityMetrics(original_df, range_limits=range_limits, expected_types=expected_types, error_values = error_values, \n",
    "                                z_threshold = 2.5, percentile_range = (0.1, 0.9))\n",
    "original_result= metrics.get_metrics()\n",
    "pprint.pprint(original_result, sort_dicts=False, width=80)"
   ]
  },
  {
   "cell_type": "code",
   "execution_count": 6,
   "id": "0fefc02b",
   "metadata": {},
   "outputs": [
    {
     "data": {
      "image/png": "[encoded data removed]",
      "text/plain": [
       "<Figure size 1000x600 with 1 Axes>"
      ]
     },
     "metadata": {},
     "output_type": "display_data"
    }
   ],
   "source": [
    "from quality.measurement.visualisation_data_quality import visualize_metrics\n",
    "\n",
    "visualize_metrics(original_result)"
   ]
  },
  {
   "cell_type": "code",
   "execution_count": null,
   "id": "4b03377c",
   "metadata": {},
   "outputs": [],
   "source": []
  }
 ],
 "metadata": {
  "kernelspec": {
   "display_name": "myenv",
   "language": "python",
   "name": "myenv"
  },
  "language_info": {
   "codemirror_mode": {
    "name": "ipython",
    "version": 3
   },
   "file_extension": ".py",
   "mimetype": "text/x-python",
   "name": "python",
   "nbconvert_exporter": "python",
   "pygments_lexer": "ipython3",
   "version": "3.8.20"
  }
 },
 "nbformat": 4,
 "nbformat_minor": 5
}
